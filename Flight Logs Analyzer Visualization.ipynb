{
 "cells": [
  {
   "cell_type": "code",
   "execution_count": 3,
   "metadata": {},
   "outputs": [],
   "source": [
    "# The data referenced here have been saved after extraction and condensing in individual files.\n",
    "# This has been done to preserve data security of the source data, which may contain sensitive\n",
    "# personally identifiable information.  Please contact Nathan Hui at nthui@eng.ucsd.edu for\n",
    "# access to the source data"
   ]
  },
  {
   "cell_type": "code",
   "execution_count": 7,
   "metadata": {},
   "outputs": [],
   "source": [
    "import numpy as np\n",
    "import matplotlib.pyplot as plt; plt.ion()"
   ]
  },
  {
   "cell_type": "code",
   "execution_count": 9,
   "metadata": {},
   "outputs": [
    {
     "name": "stdout",
     "output_type": "stream",
     "text": [
      "Mean distance: 3071 m\n",
      "Median distance: 2800 m\n",
      "Max distance: 19300 m\n",
      "Min distance: 100 m\n"
     ]
    },
    {
     "data": {
      "image/png": "[encoded data removed]",
      "text/plain": [
       "<Figure size 432x288 with 1 Axes>"
      ]
     },
     "metadata": {
      "needs_background": "light"
     },
     "output_type": "display_data"
    }
   ],
   "source": [
    "# Plot distance histogram\n",
    "# distances.npy is generated by distance.py\n",
    "distances = np.load('distances.npy')\n",
    "fig = plt.figure()\n",
    "plt.hist(distances)\n",
    "plt.xlabel('Distance (m)')\n",
    "plt.ylabel('Number of Flights')\n",
    "plt.title('Distribution of Flight Distances')\n",
    "mean = np.mean(distances)\n",
    "median = np.median(distances)\n",
    "max_d = np.max(distances)\n",
    "min_d = np.min(distances[np.nonzero(distances)])\n",
    "\n",
    "print('Mean distance: %.0f m' % (mean))\n",
    "print('Median distance: %.0f m' % (median))\n",
    "print('Max distance: %.0f m' % (max_d))\n",
    "print('Min distance: %.0f m' % (min_d))"
   ]
  },
  {
   "cell_type": "code",
   "execution_count": null,
   "metadata": {},
   "outputs": [],
   "source": []
  }
 ],
 "metadata": {
  "kernelspec": {
   "display_name": "Python 3",
   "language": "python",
   "name": "python3"
  },
  "language_info": {
   "codemirror_mode": {
    "name": "ipython",
    "version": 3
   },
   "file_extension": ".py",
   "mimetype": "text/x-python",
   "name": "python",
   "nbconvert_exporter": "python",
   "pygments_lexer": "ipython3",
   "version": "3.5.2"
  }
 },
 "nbformat": 4,
 "nbformat_minor": 2
}
